{
 "cells": [
  {
   "cell_type": "markdown",
   "id": "fcd3d8ea",
   "metadata": {},
   "source": [
    "### 1.Create a null vector of size 10 but the fifth value which is "
   ]
  },
  {
   "cell_type": "code",
   "execution_count": 1,
   "id": "d54c3114",
   "metadata": {},
   "outputs": [
    {
     "name": "stdout",
     "output_type": "stream",
     "text": [
      "[0. 0. 0. 0. 1. 0. 0. 0. 0. 0.]\n"
     ]
    }
   ],
   "source": [
    "import numpy as np\n",
    "null_vector = np.zeros(10)\n",
    "null_vector[4] = 1\n",
    "print(null_vector)"
   ]
  },
  {
   "cell_type": "markdown",
   "id": "f0734700",
   "metadata": {},
   "source": [
    "### 2.Create a vector with values ranging from 10 to 49"
   ]
  },
  {
   "cell_type": "code",
   "execution_count": 2,
   "id": "3354c141",
   "metadata": {},
   "outputs": [
    {
     "name": "stdout",
     "output_type": "stream",
     "text": [
      "[10 11 12 13 14 15 16 17 18 19 20 21 22 23 24 25 26 27 28 29 30 31 32 33\n",
      " 34 35 36 37 38 39 40 41 42 43 44 45 46 47 48 49]\n"
     ]
    }
   ],
   "source": [
    "import numpy as np\n",
    "vector = np.arange(10, 50)\n",
    "print(vector)"
   ]
  },
  {
   "cell_type": "markdown",
   "id": "b14cc64f",
   "metadata": {},
   "source": [
    "### 3.Create a 3x3 matrix with values ranging from 0 to 8"
   ]
  },
  {
   "cell_type": "code",
   "execution_count": 3,
   "id": "e094815a",
   "metadata": {},
   "outputs": [
    {
     "name": "stdout",
     "output_type": "stream",
     "text": [
      "[[0 1 2]\n",
      " [3 4 5]\n",
      " [6 7 8]]\n"
     ]
    }
   ],
   "source": [
    "import numpy as np\n",
    "matrix = np.arange(9).reshape(3, 3)\n",
    "print(matrix)"
   ]
  },
  {
   "cell_type": "markdown",
   "id": "fb589b00",
   "metadata": {},
   "source": [
    "### 4.Find indices of non-zero elements from [1,2,0,0,4,0]"
   ]
  },
  {
   "cell_type": "code",
   "execution_count": 4,
   "id": "79ecbccd",
   "metadata": {},
   "outputs": [
    {
     "name": "stdout",
     "output_type": "stream",
     "text": [
      "(array([0, 1, 4], dtype=int64),)\n"
     ]
    }
   ],
   "source": [
    "import numpy as np\n",
    "arr = np.array([1, 2, 0, 0, 4, 0])\n",
    "non_zero_indices = np.nonzero(arr)\n",
    "print(non_zero_indices)"
   ]
  },
  {
   "cell_type": "markdown",
   "id": "ce3a4959",
   "metadata": {},
   "source": [
    "### 5.Create a 10x10 array with random values and find the minimum and maximum values"
   ]
  },
  {
   "cell_type": "code",
   "execution_count": 5,
   "id": "876c9f0c",
   "metadata": {},
   "outputs": [
    {
     "name": "stdout",
     "output_type": "stream",
     "text": [
      "[[0.65353604 0.06588043 0.09967505 0.85600518 0.7866889  0.25806496\n",
      "  0.23613454 0.27020636 0.59471876 0.99006454]\n",
      " [0.87862176 0.24750671 0.18460872 0.62794627 0.54514471 0.75320951\n",
      "  0.5106932  0.95384928 0.69165977 0.20343383]\n",
      " [0.6484329  0.12581185 0.26541648 0.11710754 0.42506449 0.68850228\n",
      "  0.73204601 0.2790406  0.42161189 0.08291205]\n",
      " [0.01419602 0.23428395 0.56954121 0.59353833 0.59001108 0.46759229\n",
      "  0.45030057 0.40942675 0.09521343 0.85243816]\n",
      " [0.61870122 0.65892176 0.9457677  0.36585093 0.95728788 0.11154091\n",
      "  0.37795397 0.89521273 0.40647364 0.34294088]\n",
      " [0.80924396 0.43652873 0.67664944 0.75943183 0.02355294 0.77380437\n",
      "  0.32038522 0.5745666  0.37607327 0.73102561]\n",
      " [0.44022849 0.60678328 0.900375   0.31631328 0.23710366 0.96551703\n",
      "  0.34887301 0.97982474 0.975187   0.22987942]\n",
      " [0.06887049 0.57414258 0.66763388 0.38043652 0.43918863 0.6857761\n",
      "  0.05227122 0.89029209 0.56382861 0.03158721]\n",
      " [0.60666764 0.58963785 0.34023972 0.12489812 0.97884254 0.79469652\n",
      "  0.27408947 0.23412591 0.89683502 0.79861448]\n",
      " [0.50563946 0.36534164 0.28108146 0.28502599 0.00265921 0.33641824\n",
      "  0.25761592 0.4914032  0.49154171 0.32725249]]\n",
      "Minimum Value: 0.0026592131417415565\n",
      "Maximum Value: 0.9900645430452926\n"
     ]
    }
   ],
   "source": [
    "import numpy as np\n",
    "random_array = np.random.rand(10, 10)\n",
    "minimum_value = random_array.min()\n",
    "maximum_value = random_array.max()\n",
    "print(random_array)\n",
    "print(f\"Minimum Value: {minimum_value}\")\n",
    "print(f\"Maximum Value: {maximum_value}\")"
   ]
  },
  {
   "cell_type": "markdown",
   "id": "780b18af",
   "metadata": {},
   "source": [
    "### 6.Create a random vector of size 30 and find the mean value."
   ]
  },
  {
   "cell_type": "code",
   "execution_count": 6,
   "id": "e9564132",
   "metadata": {},
   "outputs": [
    {
     "name": "stdout",
     "output_type": "stream",
     "text": [
      "[0.0341132  0.50523274 0.37928977 0.78481797 0.50931469 0.40295405\n",
      " 0.2010417  0.76676106 0.54818195 0.05573543 0.45443241 0.98209034\n",
      " 0.06779783 0.41563967 0.94403993 0.58573963 0.28435263 0.00903895\n",
      " 0.17520877 0.16531526 0.76118624 0.18718329 0.97151188 0.64241854\n",
      " 0.13569089 0.65523329 0.08080307 0.89105314 0.87617683 0.93802502]\n",
      "Mean Value: 0.4803460067880673\n"
     ]
    }
   ],
   "source": [
    "import numpy as np\n",
    "random_vector = np.random.rand(30)\n",
    "mean_value = random_vector.mean()\n",
    "print(random_vector)\n",
    "print(f\"Mean Value: {mean_value}\")"
   ]
  },
  {
   "cell_type": "code",
   "execution_count": null,
   "id": "21c53c33",
   "metadata": {},
   "outputs": [],
   "source": []
  }
 ],
 "metadata": {
  "kernelspec": {
   "display_name": "Python 3 (ipykernel)",
   "language": "python",
   "name": "python3"
  },
  "language_info": {
   "codemirror_mode": {
    "name": "ipython",
    "version": 3
   },
   "file_extension": ".py",
   "mimetype": "text/x-python",
   "name": "python",
   "nbconvert_exporter": "python",
   "pygments_lexer": "ipython3",
   "version": "3.10.9"
  }
 },
 "nbformat": 4,
 "nbformat_minor": 5
}
